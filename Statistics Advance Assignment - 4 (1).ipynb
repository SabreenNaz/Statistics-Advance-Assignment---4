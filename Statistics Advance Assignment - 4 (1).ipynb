{
 "cells": [
  {
   "cell_type": "markdown",
   "id": "adc3a3e9-07c8-43be-9c8c-e62a606034b1",
   "metadata": {},
   "source": [
    "Q1: What is the difference between a t-test and a z-test? Provide an example scenario where you would\n",
    "use each type of test."
   ]
  },
  {
   "cell_type": "markdown",
   "id": "35024ebf-9204-4d66-8bae-3cb5d26c36c0",
   "metadata": {},
   "source": [
    "#Answer\n",
    "A t-test and a z-test are both statistical hypothesis tests used to make inferences about population parameters based on sample data. However, they are used under different circumstances and have some key differences:\n",
    "\n",
    "Sample Size:\n",
    "\n",
    "T-test: The t-test is typically used when you have a small sample size (usually less than 30) and the population standard deviation is unknown.\n",
    "Z-test: The z-test is used when you have a larger sample size (typically more than 30) or when you know the population standard deviation.\n",
    "\n",
    "Standardization:\n",
    "\n",
    "T-test: It uses the sample standard deviation to standardize the sample mean.\n",
    "Z-test: It uses the known population standard deviation to standardize the sample mean.\n",
    "\n",
    "Distribution:\n",
    "\n",
    "T-test: It assumes a t-distribution, which has heavier tails compared to the normal (z) distribution. The shape of the t-distribution depends on the sample size, and as the sample size increases, it approaches a normal distribution.\n",
    "Z-test: It assumes a normal distributionHypothesis Testing:\n",
    "\n",
    "T-test: Commonly used for comparing means between two groups or testing the mean of one group against a known or assumed population mean when the population standard deviation is unknown.\n",
    "Z-test: Typically used when testing the mean of one group against a known population mean or when comparing means between two groups with a known population standard deviation.\n",
    "Example Scenarios:\n",
    "\n",
    "Scenario for T-test:\n",
    "Suppose you want to test whether a new teaching method improves students' test scores. You select a random sample of 20 students from a school, apply the new teaching method, and then compare their test scores before and after the intervention. Since you don't know the population standard deviation of test scores, you would use a t-test to determine if there's a significant improvement.\n",
    "\n",
    "Scenario for Z-test:\n",
    "Imagine you work for a factory that produces light bulbs, and you want to test whether the average lifespan of your light bulbs is consistent with a claimed average lifespan of 1000 hours. You collect a large random sample of 1000 light bulbs and measure their lifespans. Because you have a large sample size and you know the population standard deviation (perhaps through historical data), you would use a z-test to determine if the average lifespan is significantly different from 1000 hours.\n",
    "\n",
    "In summary, choose between a t-test and a z-test based on your sample size and whether you know the population standard deviation. If the sample size is small or the population standard deviation is unknown, use a t-test. If the sample size is large and the population standard deviation is known, use a z-test.\n",
    "\n"
   ]
  },
  {
   "cell_type": "markdown",
   "id": "d768ab2e-88b4-43b3-a1dd-6c72edbb4923",
   "metadata": {},
   "source": [
    "                      -------------------------------------------------------------------"
   ]
  },
  {
   "cell_type": "markdown",
   "id": "491180f2-5135-481c-9aa5-c7f7f6e92a5f",
   "metadata": {},
   "source": [
    "Q2: Differentiate between one-tailed and two-tailed tests."
   ]
  },
  {
   "cell_type": "markdown",
   "id": "dbecd1ba-6f5c-4fcf-9af9-882b37bf1939",
   "metadata": {},
   "source": [
    "#Answer\n",
    "\n",
    "One-tailed and two-tailed tests are two types of hypothesis tests used in statistics to determine the significance of observed data. They differ in how they assess whether a sample statistic is significantly different from a population parameter. Here's the key difference between the two:\n",
    "\n",
    "One-Tailed Test:\n",
    "\n",
    "a) Directionality: In a one-tailed test, you are interested in detecting a significant difference in only one direction (either greater than or less than), not both.\n",
    "\n",
    "b) Hypotheses:\n",
    "\n",
    " Null Hypothesis (H0): The null hypothesis in a one-tailed test typically states that there is no difference or no effect. Alternative Hypothesis (Ha): The alternative hypothesis in a one-tailed test specifies the direction of the effect. It states that the effect exists and is either greater than or less than a certain value.\n",
    " \n",
    "c) Critical Region: In a one-tailed test, all of the significance level (alpha, α) is concentrated in one tail of the distribution. The critical region is on one side of the distribution curve.\n",
    "\n",
    "d) Example: If you are testing a new drug's efficacy and you are only interested in whether it performs better than the existing drug, a one-tailed test would be appropriate. Your alternative hypothesis (Ha) might be that the new drug's effect is greater than that of the existing drug.\n",
    "\n",
    "Two-Tailed Test:\n",
    "\n",
    "a) Directionality: In a two-tailed test, you are interested in detecting a significant difference in either direction (greater than or less than), meaning you are considering both extremes.\n",
    "\n",
    "b) Hypotheses:\n",
    "\n",
    "Null Hypothesis (H0): The null hypothesis in a two-tailed test states that there is no difference or no effect.\n",
    "Alternative Hypothesis (Ha): The alternative hypothesis in a two-tailed test is general and simply states that there is a significant difference, without specifying the direction.\n",
    "\n",
    "c) Critical Region: In a two-tailed test, the significance level (alpha, α) is divided equally between both tails of the distribution. The critical region is split between the two sides of the distribution curve.\n",
    "\n",
    "d) Example: If you are testing the fairness of a coin and want to determine whether it is biased in either direction (heads or tails), a two-tailed test would be appropriate. Your alternative hypothesis (Ha) would simply state that the coin is biased, without specifying whether it's biased towards heads or tails.\n",
    "\n",
    "In summary, the choice between a one-tailed and a two-tailed test depends on your research question and the direction of the effect you are interested in. Use a one-tailed test when you have a specific directional hypothesis, and use a two-tailed test when you want to test for a significant difference without assuming a specific direction.\n"
   ]
  },
  {
   "cell_type": "markdown",
   "id": "61e7fe27-1fe2-442b-9990-ddf2b4958328",
   "metadata": {},
   "source": [
    "                      -------------------------------------------------------------------"
   ]
  },
  {
   "cell_type": "markdown",
   "id": "ee58e8fc-6392-4da0-a0c9-2443f93e661c",
   "metadata": {},
   "source": [
    "Q3: Explain the concept of Type 1 and Type 2 errors in hypothesis testing. Provide an example scenario for\n",
    "each type of error."
   ]
  },
  {
   "cell_type": "markdown",
   "id": "1c13a979-8e36-49fc-b311-385c25dbba76",
   "metadata": {},
   "source": [
    "#Answer\n",
    "\n",
    "In hypothesis testing, Type 1 and Type 2 errors are two potential mistakes that can occur when making decisions about whether to reject or fail to reject a null hypothesis. These errors are important to consider because they represent the balance between the risks associated with drawing incorrect conclusions.\n",
    "\n",
    "Type 1 Error (False Positive):\n",
    "\n",
    "* Definition: A Type 1 error occurs when you incorrectly reject a null hypothesis that is actually true. In other words, you conclude that there is a significant effect or difference when there isn't one in reality.\n",
    "\n",
    "* Example Scenario: Let's say you are conducting a medical test to determine if a person has a particular disease, and the null hypothesis (H0) is that the person is healthy. A Type 1 error would occur if the test falsely indicates that a healthy person has the disease, leading to unnecessary stress and treatment.\n",
    "\n",
    "Type 2 Error (False Negative):\n",
    "\n",
    "* Definition: A Type 2 error occurs when you incorrectly fail to reject a null hypothesis that is actually false. In this case, you miss detecting a significant effect or difference that does exist.\n",
    "\n",
    "* Example Scenario: Consider a pharmaceutical company testing a new drug's efficacy. The null hypothesis (H0) is that the drug has no effect. A Type 2 error would occur if the study fails to detect that the drug is actually effective in treating the condition, leading to the rejection of a potentially beneficial medication.\n",
    "\n",
    "In summary:\n",
    "\n",
    "Type 1 Error (False Positive) involves wrongly concluding an effect or difference when there isn't one .\n",
    "Type 2 Error (False Negative) involves failing to detect an effect or difference that actually exists \n",
    "\n",
    "The balance between these two types of errors is typically controlled through the choice of the significance level (alpha, α) in hypothesis testing. Lowering the significance level reduces the risk of Type 1 errors but increases the risk of Type 2 errors, and vice versa. Researchers often set a predetermined alpha level (e.g., 0.05) to control the trade-off between these errors based on the specific context and consequences of making each type of error.\n"
   ]
  },
  {
   "cell_type": "markdown",
   "id": "ab68aa9b-06e7-48ba-9454-ab662e3c7fc2",
   "metadata": {},
   "source": [
    "                      -------------------------------------------------------------------"
   ]
  },
  {
   "cell_type": "markdown",
   "id": "603d8454-0f91-4c58-9047-9330eaa2c9b0",
   "metadata": {},
   "source": [
    "Q4:  Explain Bayes's theorem with an example"
   ]
  },
  {
   "cell_type": "markdown",
   "id": "b5c6a2bf-6815-40c2-9cb1-8648ac283721",
   "metadata": {},
   "source": [
    "#Answer\n",
    "\n",
    " Imagine you have a bag of colored marbles. Some of the marbles are red, and others are green. You want to figure out if the bag has more red marbles or green marbles based on some observations.\n",
    "\n",
    "Prior Information (Prior Probability): Before you make any observations, you have a belief about the bag's contents. Let's say you initially believe there's a 60% chance that the bag contains more red marbles (60% is the prior probability of \"more red\").\n",
    "\n",
    "New Observation (Evidence): You decide to randomly pull out one marble from the bag, and it turns out to be red. This is your new evidence.\n",
    "\n",
    "Now, you want to update your belief based on this new evidence using Bayes's theorem.\n",
    "\n",
    "* Prior Probability: Your prior belief is that there's a 60% chance of \"more red\" marbles in the bag. This is your starting point.\n",
    "\n",
    "* Likelihood (Probability of Evidence Given Hypothesis): You need to consider how likely it is to get a red marble if there are \"more red\" marbles in the bag. Let's say there's a 90% chance of picking a red marble if there are \"more red\" marbles.\n",
    "\n",
    "* Marginal Probability of Evidence: You also need to consider how likely it is to get a red marble overall, regardless of your prior belief. This involves considering the chances of getting a red marble if there are \"more red\" marbles and the chances if there are \"more green\" marbles. Let's say there's a 70% chance of getting a red marble overall.\n",
    "\n",
    "Now, you can use Bayes's theorem to update your belief:\n",
    "\n",
    "Updated Probability of \"More Red\" Marbles= Likelihood × Prior Probability/ Marginal Probability of Evidence\n",
    "\n",
    "Updated Probability of \"More Red\" Marbles = 0.90× 0.60/0.70\n",
    "\n",
    " \n",
    "Calculating this, you find that the updated probability of \"more red\" marbles in the bag is approximately 77%.\n",
    "\n",
    "So, after pulling out a red marble, your belief that there are \"more red\" marbles in the bag increases from 60% to 77%. This demonstrates how Bayes's theorem allows you to update your beliefs based on new evidence.\n",
    "\n",
    "\n",
    "\n",
    "\n"
   ]
  },
  {
   "cell_type": "markdown",
   "id": "cd0ab467-5e47-4d05-93dc-9cc7882b3d46",
   "metadata": {},
   "source": [
    "                      -------------------------------------------------------------------"
   ]
  },
  {
   "cell_type": "markdown",
   "id": "d83dbde1-120b-428e-9820-73b17987c381",
   "metadata": {},
   "source": [
    "Q5: What is a confidence interval? How to calculate the confidence interval, explain with an example."
   ]
  },
  {
   "cell_type": "markdown",
   "id": "c161641a-997f-4014-8532-28a2a123579e",
   "metadata": {},
   "source": [
    "#Answer\n",
    "\n",
    "A confidence interval is a statistical range or interval that is calculated from sample data and is used to estimate the range within which a population parameter (e.g., a population mean or proportion) is likely to fall with a certain level of confidence. In other words, it provides a range of values within which we believe the true parameter lies, based on our sample data and a chosen level of confidence.\n",
    "\n",
    "Here's how to calculate a confidence interval, using a simple example of estimating the mean height of a population:\n",
    "\n",
    "Example: Calculating a Confidence Interval for Mean Height\n",
    "\n",
    "Suppose you want to estimate the average height of adults in a town. You take a random sample of 100 adults and measure their heights. You find that the sample mean height is 165 cm, and the sample standard deviation is 10 cm.\n",
    "\n",
    "Now, you want to calculate a 95% confidence interval for the population mean height.\n",
    "\n",
    "1) Select a Confidence Level: In this case, you choose a 95% confidence level, which is a common choice. This means you want to be 95% confident that the true population mean falls within your interval.\n",
    "\n",
    "2) Find the Critical Value: You need to find the critical value for a 95% confidence interval. For a normal distribution (which is often assumed for height data), you can use a standard z-table or a calculator. The critical value for a 95% confidence interval is approximately 1.96.\n",
    "\n",
    "4) Calculate the Margin of Error (MOE): The margin of error represents the range around your sample mean within which the population mean is likely to fall. You calculate it using the critical value and the standard error of the mean:\n",
    "\n",
    "\n",
    " MOE = Critical Value × Standard Deviation/(square root of(Sample Size)\n",
    "\n",
    " MOE = 1.96×10/square root(100)\n",
    "       = 1.96 × 1 =1.96\n",
    "\n",
    "4) Calculate the Confidence Interval: To find the confidence interval, you add and subtract the margin of error from the sample mean:\n",
    "\n",
    "    ConfidenceInterval= Sample Mean ± MOE\n",
    "                       = 165 ± 1.96=(163.04,166.96)\n",
    "\n",
    "\n",
    "So, the 95% confidence interval for the average height of adults in the town is (163.04 cm, 166.96 cm). This means that you are 95% confident that the true population mean height falls within this range based on your sample data.\n",
    "\n",
    "In summary, a confidence interval is a range of values that provides an estimate of a population parameter with a certain level of confidence. To calculate it, you choose a confidence level, find the critical value, calculate the margin of error, and then construct the interval around the sample statistic.\n"
   ]
  },
  {
   "cell_type": "markdown",
   "id": "4bd56842-96dd-463e-9a53-abe5f7acc2c6",
   "metadata": {},
   "source": [
    "                       -------------------------------------------------------------------"
   ]
  },
  {
   "cell_type": "markdown",
   "id": "e5cfcd8a-e250-42a7-8424-c3a5f8fe7a69",
   "metadata": {},
   "source": [
    "Q6. Use Bayes' Theorem to calculate the probability of an event occurring given prior knowledge of the\n",
    "event's probability and new evidence. Provide a sample problem and solution"
   ]
  },
  {
   "cell_type": "markdown",
   "id": "3e624b16-8644-4f15-997c-36587f687120",
   "metadata": {},
   "source": [
    "#Answer\n",
    "\n",
    "Problem:__ Suppose you're planning a picnic, and you're concerned about the weather. You have access to two weather apps: App A and App B. Historically, App A has been accurate 80% of the time, while App B has been accurate 60% of the time. Today, both apps forecast rain for your picnic.\n",
    "\n",
    "Given this information, you want to calculate the probability that it will actually rain today\n",
    "P(Rain)), considering the forecasts from both apps.\n",
    "\n",
    "Solution:\n",
    "\n",
    "1. Prior Probability:\n",
    "\n",
    "P(Rain) is the initial probability of rain today, without considering the app forecasts. We don't have this information, so we'll call it x\n",
    "\n",
    "2. Likelihood (Probability of Evidence Given Hypothesis):\n",
    "\n",
    "   P(Rain Forecast by App A∣Rain)=0.80 (App A's accuracy when it actually rains).\n",
    "\n",
    "   P(Rain Forecast by App B∣Rain)=0.60 (App B's accuracy when it actually rains).\n",
    "\n",
    "3. Likelihood for the Opposite Hypothesis (No Rain):\n",
    "\n",
    "   P(Rain Forecast by App A∣No Rain)=0.20 (App A's inaccuracy when there's no rain).\n",
    "\n",
    "   P(Rain Forecast by App B∣No Rain)=0.40 (App B's inaccuracy when there's no rain).\n",
    "\n",
    "4. Marginal Probability of Evidence (Total chance of both apps forecasting rain):\n",
    "\n",
    "   P(Rain Forecast)=P(Rain Forecast by App A∣Rain)⋅P(Rain)+P(Rain Forecast by App B∣Rain)⋅P(Rain)\n",
    "\n",
    "Similarly, for the opposite hypothesis (no rain):\n",
    "\n",
    "  P(No Rain Forecast)=P(Rain Forecast by App A∣No Rain)⋅P(No Rain)+P(Rain Forecast by App B∣No Rain)⋅P(No Rain)\n",
    "\n",
    "5. Apply Bayes' Theorem:\n",
    "\n",
    " P(Rain/Rain Forecast)= P(Rain Forecast by App A∣Rain)⋅P(Rain)/p(Rain Forecast)\n",
    "\n",
    " \n",
    "\n",
    "Plug in the values and solve for x:\n",
    "\n",
    "    0.80*x = 0.80*x/(p(Rain forecast))\n",
    "\n",
    " \n",
    "\n",
    "Since both apps forecast rain, \n",
    "\n",
    "P(Rain Forecast) can be calculated by summing the probabilities for each app's rain forecast.\n",
    "\n",
    "Now, solve for x:\n",
    "\n",
    "0.80⋅x= 0.80⋅x/(P(Rain Forecast))\n",
    "\n",
    " \n",
    "\n",
    "The value of x represents the updated probability that it will rain today, considering both apps' forecasts.\n",
    "\n",
    "In this example, Bayes' Theorem helps you combine information from multiple sources to estimate the probability of an event, which is especially useful when you have conflicting or complementary evidence.\n"
   ]
  },
  {
   "cell_type": "markdown",
   "id": "c195c9bd-aba6-49ad-a195-6b541eb54fb2",
   "metadata": {},
   "source": [
    "                        -------------------------------------------------------------------"
   ]
  },
  {
   "cell_type": "markdown",
   "id": "2fe3220c-ebfc-4f55-a73e-2bb262fd73fb",
   "metadata": {},
   "source": [
    "Q7. Calculate the 95% confidence interval for a sample of data with a mean of 50 and a standard deviation\n",
    "of 5. Interpret the results."
   ]
  },
  {
   "cell_type": "markdown",
   "id": "0245391d-40aa-40a2-9a8a-b8f40ebd836b",
   "metadata": {},
   "source": [
    "#Answer\n",
    "\n",
    "\n",
    "To calculate a 95% confidence interval for a sample of data with a mean of 50 and a standard deviation of 5, we can use the formula for the confidence interval for a population mean when the population standard deviation is known. The formula is:\n",
    "\n",
    "Confidence Interval = Sample Mean ± (Critical Value × Standard Deviation/(square root(Sample Size))\n",
    "\n",
    "\n",
    "In this case, we want a 95% confidence interval, so the critical value corresponds to a 95% confidence level. For a normal distribution, which is commonly assumed when calculating confidence intervals, the critical value for a 95% confidence interval is approximately 1.96.(we can check it through Z table)\n",
    "\n",
    "Here, \n",
    "\n",
    "\n",
    "Sample Mean = 50\n",
    "Standard Deviation) = 5\n",
    "Critical Value) = 1.96 (for a 95% confidence interval)\n",
    "Sample Size__ is not given in the question. we need to know the sample size to complete the calculation.\n",
    "\n",
    "\n",
    "Let's assume that the sample size (squareroot(Sample Size)) is 25 for this example. \n",
    "\n",
    "Now, calculate the confidence interval:\n",
    "\n",
    "   Confidence Interval= 50± (1.96× 5/ (squareroot(25))\n",
    "   Confidence Interval = 50± (1.96× 5/5)\n",
    "\n",
    "   Confidence Interval= 50± (1.96×1)\n",
    "\n",
    "Now, calculate the upper and lower bounds of the confidence interval:\n",
    "\n",
    "Lower Bound: 50−(1.96×1)= 50−1.96 =48.04\n",
    "\n",
    "Upper Bound: 50+(1.96×1)= 50+1.96 =51.96\n",
    "\n",
    "Interpretation:\n",
    "The 95% confidence interval for the population mean, based on this sample of data with a mean of 50 and a standard deviation of 5 (assuming a sample size of 25), is from 48.04 to 51.96. This means that you are 95% confident that the true population mean falls within this range.\n",
    "\n",
    "\n",
    "\n"
   ]
  },
  {
   "cell_type": "markdown",
   "id": "02cad61c-0270-4ac3-88d7-b342ca8b1e1a",
   "metadata": {},
   "source": [
    "                        -------------------------------------------------------------------"
   ]
  },
  {
   "cell_type": "markdown",
   "id": "b43a23d1-80a0-4386-a022-411326f2e88a",
   "metadata": {},
   "source": [
    "Q8. What is the margin of error in a confidence interval? How does sample size affect the margin of error?\n",
    "Provide an example of a scenario where a larger sample size would result in a smaller margin of error."
   ]
  },
  {
   "cell_type": "markdown",
   "id": "54789605-ead8-429d-831d-3aee724dfd91",
   "metadata": {},
   "source": [
    "#Answer\n",
    "\n",
    "The margin of error (MOE) in a confidence interval (CI) is a measure of the range within which we expect the true population parameter to lie. It quantifies the uncertainty associated with estimating a population parameter (such as a population mean or proportion) based on a sample from that population.\n",
    "\n",
    "\n",
    "The formula for calculating the margin of error in a confidence interval is typically:\n",
    "\n",
    "MOE = Z * (σ / √n)\n",
    "\n",
    "Where: * MOE is the margin of error.\n",
    "      * Z is the Z-score, which corresponds to the desired level of confidence (e.g., 1.96 for a 95% confidence interval).\n",
    "      * σ (sigma) is the population standard deviation (if known) or the sample standard deviation (if it's used as an       estimate of the population standard deviation).\n",
    "     * √n is the square root of the sample size.\n",
    "     \n",
    "     Here's how sample size affects the margin of error:\n",
    "\n",
    "1) Direct Relationship: The margin of error is inversely proportional to the square root of the sample size. This means that as the sample size (n) increases, the margin of error decreases.\n",
    "\n",
    "2) Increased Precision: A larger sample size allows for more data points to be included in the analysis, which generally results in a more precise estimate of the population parameter. As you collect more data points, you get a better sense of the population's characteristics, and the margin of error becomes smaller.\n",
    "\n",
    "Here's an example to illustrate how a larger sample size would result in a smaller margin of error:\n",
    "\n",
    "Let's say you want to estimate the average height of students in a university. You decide to take two different sample sizes:\n",
    "\n",
    "Sample A: You randomly select 10 students and measure their heights. The sample mean height is 65 inches, and the sample standard deviation is 3 inches.\n",
    "\n",
    "Sample B: You randomly select 100 students and measure their heights. The sample mean height is 66 inches, and the sample standard deviation is 3 inches.\n",
    "\n",
    "You want to construct a 95% confidence interval for the average height of all students in the university.\n",
    "\n",
    "Using the formula for MOE:\n",
    "\n",
    "For Sample A:\n",
    "MOE_A = 1.96 * (3 / √10) ≈ 1.85 inches\n",
    "\n",
    "For Sample B:\n",
    "MOE_B = 1.96 * (3 / √100) ≈ 0.588 inches\n",
    "\n",
    "As we can see, the margin of error for Sample B is much smaller than that for Sample A because of the larger sample size. This means that you can be more confident that the true average height of all students falls within a narrower range when using Sample B, demonstrating how a larger sample size results in a smaller margin of error and a more precise estimate."
   ]
  },
  {
   "cell_type": "markdown",
   "id": "6572363f-a798-4141-9db8-5a2831b9b9ad",
   "metadata": {},
   "source": [
    "                        -------------------------------------------------------------------"
   ]
  },
  {
   "cell_type": "markdown",
   "id": "a36584e1-3bfb-4615-aaa4-4497399e2fd3",
   "metadata": {},
   "source": [
    "Q9. Calculate the z-score for a data point with a value of 75, a population mean of 70, and a population\n",
    "standard deviation of 5. Interpret the results."
   ]
  },
  {
   "cell_type": "markdown",
   "id": "a0ebfda2-00a1-41a3-9b2b-77864dc0a149",
   "metadata": {},
   "source": [
    "#Answer\n",
    "\n",
    " Z_score = (xi-m)/std\n",
    "\n",
    "Where,\n",
    " Z = Z_score\n",
    "    \n",
    " xi = data points\n",
    "\n",
    " m = population mean\n",
    "    \n",
    " std = population standarddeviation\n",
    "\n",
    "Here,\n",
    "  Z = ?\n",
    "    \n",
    "  xi = 75\n",
    "\n",
    "  m = 70\n",
    "    \n",
    "  std = 5\n",
    "\n",
    "           = (75-70)/5\n",
    "    \n",
    "           = 5/5\n",
    "        \n",
    "   Z_score = +1\n",
    "\n",
    "So, the z-score for a data point with a value of 75, a population mean of 70, and a population standard deviation of 5 is 1.\n",
    "\n",
    "Interpretation:\n",
    "A z-score of 1 indicates that the data point (75) is 1 standard deviation above the population mean (70). In other words, it is 1 standard deviation to the right of the mean on a standard normal distribution.\n"
   ]
  },
  {
   "cell_type": "markdown",
   "id": "6c92c667-4fa3-4512-bb53-9e0e3971aeab",
   "metadata": {},
   "source": [
    "                        -------------------------------------------------------------------"
   ]
  },
  {
   "cell_type": "markdown",
   "id": "b1cf8bd6-b91f-4f99-abc2-04ee3faeeeb5",
   "metadata": {},
   "source": [
    "Q10. In a study of the effectiveness of a new weight loss drug, a sample of 50 participants lost an average\n",
    "of 6 pounds with a standard deviation of 2.5 pounds. Conduct a hypothesis test to determine if the drug is\n",
    "significantly effective at a 95% confidence level using a t-test"
   ]
  },
  {
   "cell_type": "markdown",
   "id": "5f56634f-3417-40fb-8ffe-5865baaf4fa2",
   "metadata": {},
   "source": [
    "#Answer\n",
    "\n",
    "\n",
    "1) Null Hypothesis:\n",
    "    Null Hypothesis (H0): The new weight loss drug is not significantly effective; it has no effect on weight loss.\n",
    "    (i.e., m == 0)\n",
    "\n",
    "\n",
    "2) Alternative Hypothesis (Ha): The new weight loss drug is significantly effective; it has an effect on weight loss\n",
    "     means, (m!=0)\n",
    "\n",
    "    \n",
    "    \n",
    "3) CI = 0.95 , Significance value = 0.05, sample mean = 6, sample size = 50 and sample std = 2.5\n",
    "               \n",
    "                df = n-1\n",
    "    \n",
    "                  = 50-1\n",
    "        \n",
    "                df = 49\n",
    "\n",
    "            \n",
    "            \n",
    "4) test statistics:__\n",
    "     t = sample mean - population mean / sample std/(squareroot of sample size)\n",
    "      \n",
    "        = 6 - 0 / 2.5/(squareroot(50))\n",
    "        \n",
    "        = 6/0.35\n",
    "        \n",
    "    t test  = 17.14\n",
    "\n",
    "    \n",
    "5) Step 6: Find the critical t-value:\n",
    "\n",
    "    For a two-tailed test at a 95% confidence level and 49 degrees of freedom, the critical t-values are approximately \n",
    "     ±2.0096.\n",
    "\n",
    "\n",
    "Conclusion:__ If t test is less than -2.0096 or greater than +2.0096 we reject Null hypothesis.\n",
    "     Here, t test value > critical value\n",
    "            17.4 > 2.0096 \n",
    "        \n",
    "        hence We are rejecting the null hypothesis means,  Based on the results of the hypothesis test, there is strong   evidence to suggest that the new weight loss drug is significantly effective at a 95% confidence level.\n",
    "   \n"
   ]
  },
  {
   "cell_type": "markdown",
   "id": "b9651e26-b9b4-4c8d-a420-9821ab82b946",
   "metadata": {},
   "source": [
    "                        -------------------------------------------------------------------"
   ]
  },
  {
   "cell_type": "markdown",
   "id": "00088cbd-9cec-44d0-9712-9de9ba63be02",
   "metadata": {},
   "source": [
    "Q11. In a survey of 500 people, 65% reported being satisfied with their current job. Calculate the 95%\n",
    "confidence interval for the true proportion of people who are satisfied with their job.\n"
   ]
  },
  {
   "cell_type": "markdown",
   "id": "72ff2b4b-dc0c-4e08-8909-06f0ba0c0ef2",
   "metadata": {},
   "source": [
    "#Answer\n",
    "\n",
    "\n",
    "To calculate a 95% confidence interval for the true proportion of people who are satisfied with their current job based on the survey data, follow these steps:\n",
    "\n",
    "Step 1: \n",
    "\n",
    "Sample size (n): 500 people\n",
    "     Sample proportion (^p^ ): 65% or 0.65 in decimal form (the proportion in the sample who are satisfied with their job).\n",
    "\n",
    "\n",
    "Step 2: Determine the critical value (Z) for a 95% confidence interval:\n",
    "\n",
    "     For a 95% confidence interval, the critical value (Z) is approximately 1.96. This value comes from the standard normal distribution table and represents the number of standard deviations you need to go from the mean to capture 95% of the area under the curve.\n",
    "\n",
    "Step 3: Calculate the standard error (SE) of the proportion:\n",
    "\n",
    "The standard error measures the variability in the sample proportion. It is calculated as follows:\n",
    "       \n",
    "        SE = squareroot(p*(1−p^)/n\n",
    "       p is the sample proportion (0.65)\n",
    "      n is the sample size (500)\n",
    "\n",
    "Let's calculate SE: \n",
    "   \n",
    "   SE = squareroot(0.65*(1−0.65))/500≈0.0487\n",
    "   \n",
    "\n",
    "Step 4: Calculate the margin of error (MOE):\n",
    "\n",
    "The margin of error tells you how much you should adjust your sample proportion to create a range around it. It's calculated by multiplying the standard error (SE) by the critical value (Z)\n",
    "\n",
    "  MOE = Z⋅SE\n",
    "     \n",
    "     = 1.96*0.0487≈0.0955\n",
    "\n",
    "\n",
    "Step 5: Calculate the confidence interval:\n",
    "\n",
    "The confidence interval is a range that you can be reasonably confident (in this case, 95% confident) contains the true population proportion. It's calculated by adding and subtracting the margin of error (MOE) from the sample proportion (^p^):\n",
    "\n",
    "  Confidence Interval = p^±MOE\n",
    "\n",
    "  Substitute the values:\n",
    "\n",
    "  Confidence Interval = 0.65 ± 0.0955\n",
    "\n",
    "\n",
    "Step 6: Interpret the results:\n",
    "\n",
    "The 95% confidence interval for the true proportion of people who are satisfied with their job is approximately from 0.5545 (55.45%) to 0.7455 (74.55%)\n",
    "\n",
    "This means that we are 95% confident that the true proportion of people who are satisfied with their job falls within this interval. In other words, based on the survey data, we estimate that between 55.45% and 74.55% of the population is satisfied with their current job"
   ]
  },
  {
   "cell_type": "markdown",
   "id": "594600c1-e640-4b34-92f2-1613ff6d65ef",
   "metadata": {},
   "source": [
    "                        -------------------------------------------------------------------"
   ]
  },
  {
   "cell_type": "markdown",
   "id": "74b590f4-14f7-4ccb-b184-f5933b634ad7",
   "metadata": {},
   "source": [
    "Q.12)  A researcher is testing the effectiveness of two different teaching methods on student performance.\n",
    "Sample A has a mean score of 85 with a standard deviation of 6, while sample B has a mean score of 82\n",
    "with a standard deviation of 5. Conduct a hypothesis test to determine if the two teaching methods have a\n",
    "significant difference in student performance using a t-test with a significance level of 0.01.\n"
   ]
  },
  {
   "cell_type": "markdown",
   "id": "75ac6f16-d195-4750-b110-55577716ebd1",
   "metadata": {},
   "source": [
    "#Answer\n",
    "    \n",
    "1) Null Hypothesis(H0):\n",
    "    \n",
    "     two teaching methods have no significant difference in student performance\n",
    "        \n",
    "        means, the population mean(sample_A) = 0\n",
    "        \n",
    "               the population mean(sample_A) = 0\n",
    "            \n",
    "                H0: μA - μB = 0\n",
    "            \n",
    "            \n",
    "2) Alternate Hypothesis(Ha):\n",
    "    \n",
    "     two teaching methods have a significant difference in student performance\n",
    "        \n",
    "        means, the population mean(sample_B) !=0\n",
    "        \n",
    "               the population mean(sample_B) !=0\n",
    "            \n",
    "                Ha: μA - μB ≠ 0\n",
    "            \n",
    "  \n",
    "\n",
    "3) CI = 0.99, significance value = 0.01, \n",
    "\n"
   ]
  },
  {
   "cell_type": "code",
   "execution_count": 11,
   "id": "80118640-50d1-4d6e-a0e9-e478dd20220b",
   "metadata": {},
   "outputs": [],
   "source": [
    "import scipy.stats as stats\n",
    "\n",
    "# Sample data for Method A\n",
    "\n",
    "sample_A_mean = 85\n",
    "\n",
    "sample_A_std = 6\n",
    "\n",
    "sample_A_size = 30  # You can set the sample size as needed\n",
    "\n",
    "# Sample data for Method B\n",
    "\n",
    "sample_B_mean = 82\n",
    "\n",
    "sample_B_std = 5\n",
    "\n",
    "\n",
    "sample_B_size = 30  # You can set the sample size as needed\n",
    "\n",
    "\n",
    "# Set the significance level\n",
    "alpha = 0.01\n",
    "\n",
    "# Perform a two-sample t-test assuming unequal variances\n",
    "\n",
    "t_statistic, p_value = stats.ttest_ind_from_stats(\n",
    "    mean1=sample_A_mean, std1=sample_A_std, nobs1=sample_A_size,\n",
    "    mean2=sample_B_mean, std2=sample_B_std, nobs2=sample_B_size,\n",
    "    equal_var=False ) # Assuming unequal variances"
   ]
  },
  {
   "cell_type": "code",
   "execution_count": 12,
   "id": "2dec683f-b47d-4b4d-a028-3bc5550d38d5",
   "metadata": {},
   "outputs": [
    {
     "name": "stdout",
     "output_type": "stream",
     "text": [
      "Fail to reject the null hypothesis. There is no significant difference in student performance between the two methods.\n"
     ]
    }
   ],
   "source": [
    "# Determine whether to reject the null hypothesis\n",
    "if p_value < alpha:\n",
    "    print(\"Reject the null hypothesis. There is a significant difference in student performance between the two methods.\")\n",
    "else:\n",
    "    print(\"Fail to reject the null hypothesis. There is no significant difference in student performance between the two methods.\")\n"
   ]
  },
  {
   "cell_type": "markdown",
   "id": "4c8c9bba-09da-4408-8c7f-12c33da3824a",
   "metadata": {},
   "source": [
    "                        -------------------------------------------------------------------"
   ]
  },
  {
   "cell_type": "markdown",
   "id": "523905b0-7911-466f-a6bd-363315bfe374",
   "metadata": {},
   "source": [
    "Q13. A population has a mean of 60 and a standard deviation of 8. A sample of 50 observations has a mean\n",
    "of 65. Calculate the 90% confidence interval for the true population mean"
   ]
  },
  {
   "cell_type": "markdown",
   "id": "d80383e3-34b7-4866-befe-69a89b264e9d",
   "metadata": {},
   "source": [
    "#Answer\n",
    "\n",
    "1) given data:_\n",
    "\n",
    "sample mean = 65\n",
    "sample_size = 50\n",
    "population_std = 8\n",
    "confidence interval = 0.90\n",
    "significance value = 0.1\n",
    "\n",
    "2) *The critical value for a significance level of 0.1 is approximately 1.65 \n",
    "\n",
    "3) Confidence Interval:\n",
    "\n",
    " CI = Sample Mean±Z(Population Standard Deviation/squareroor(Sample Size))\n",
    " \n",
    "    = 65 ± 1.65 (8/squareroot(50))\n",
    "    = 65  ± 1.65 ( 1.13)\n",
    "    = 65  ± 1.864\n",
    " * Upper CI = 65 + 1.864 = 66.864\n",
    " * Lower CI = 65 - 1.864 = 63.136\n",
    " \n",
    " \n",
    " Conclusion :____ Iam 90% confident that the based on sample observation mean value lies between 63.136 and 66.864\n",
    "  \n",
    "\n",
    " \n",
    "\n",
    "\n",
    "\n"
   ]
  },
  {
   "cell_type": "markdown",
   "id": "cbc30755-aa65-465e-8bf9-16870124078d",
   "metadata": {},
   "source": [
    "                        -------------------------------------------------------------------"
   ]
  },
  {
   "cell_type": "markdown",
   "id": "d5a78481-93a3-418f-b338-92db0814d876",
   "metadata": {},
   "source": [
    "Q14. In a study of the effects of caffeine on reaction time, a sample of 30 participants had an average\n",
    "reaction time of 0.25 seconds with a standard deviation of 0.05 seconds. Conduct a hypothesis test to\n",
    "determine if the caffeine has a significant effect on reaction time at a 90% confidence level using a t-test."
   ]
  },
  {
   "cell_type": "markdown",
   "id": "c97f8f76-455d-433f-8812-b1feb63dba9b",
   "metadata": {},
   "source": [
    "#Answer\n",
    "\n",
    "1) Nll hypothesis(H0): The average reaction time with caffeine (μ) is equal to 0.25 seconds\n",
    "\n",
    "2) Alternate hypothesis:The average reaction time with caffeine (μ) is not equal to 0.25 seconds.\n",
    " \n",
    "3) Given data:\n",
    "    sample_mean = 0.25\n",
    "    \n",
    "    sample_std = 0.05\n",
    "    \n",
    "    sample_size = 30\n",
    "    \n",
    "    Population mean under the null hypothesis 0.25 seconds\n",
    "    \n",
    "    Degree of freedom = n -1 = 30-1 = 29\n",
    "    \n",
    "4) Decision boundary:__ The critical value for a significance level of 0.1 in t table is approximately 1.699\n",
    "\n",
    "5) T_test Statistics:__\n",
    "\n",
    "   t= Sample Mean − Population Mean / [sample standard deviation/squareroot(sample_size)]\n",
    "   \n",
    "    = 0.25 - 0.25 / [0.05/squareroot(30)]\n",
    "    \n",
    "    t test value = 0\n",
    "\n",
    "Conclusion: If t test is greater than critical value (1.699) 0r lesser than (-1.699) we will reject null hypothesis\n",
    "           0 !> 1.699\n",
    "    \n",
    "    hence we are failed to reject the null hypothesis The data does not provide sufficient support for the alternative hypothesis that the average reaction time with caffeine is different from 0.25 seconds.\n",
    " \n",
    "\n"
   ]
  },
  {
   "cell_type": "markdown",
   "id": "d795a4e2-9d1d-4971-a749-1d4882a008fc",
   "metadata": {},
   "source": [
    "                        -------------------------------------------------------------------"
   ]
  }
 ],
 "metadata": {
  "kernelspec": {
   "display_name": "Python 3 (ipykernel)",
   "language": "python",
   "name": "python3"
  },
  "language_info": {
   "codemirror_mode": {
    "name": "ipython",
    "version": 3
   },
   "file_extension": ".py",
   "mimetype": "text/x-python",
   "name": "python",
   "nbconvert_exporter": "python",
   "pygments_lexer": "ipython3",
   "version": "3.10.8"
  }
 },
 "nbformat": 4,
 "nbformat_minor": 5
}
